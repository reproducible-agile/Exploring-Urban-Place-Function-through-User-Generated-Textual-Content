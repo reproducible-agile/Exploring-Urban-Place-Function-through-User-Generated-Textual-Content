{
 "cells": [
  {
   "cell_type": "code",
   "execution_count": 1,
   "id": "ccc45da9",
   "metadata": {},
   "outputs": [],
   "source": [
    "import pandas as pd\n",
    "#load wiki data for london\n",
    "wiki_data = pd.read_csv('../../data/data_wiki_clustering/wikipedia_geotags_112020.csv')"
   ]
  },
  {
   "cell_type": "code",
   "execution_count": 2,
   "id": "4c19ef54",
   "metadata": {},
   "outputs": [],
   "source": [
    "#convert to geopandas dataframe\n",
    "import geopandas as gpd\n",
    "from geopandas import GeoDataFrame\n",
    "kc_wiki_gpd = gpd.GeoDataFrame(wiki_data, geometry = gpd.points_from_xy(wiki_data.gt_lon, \n",
    "                                                                        wiki_data.gt_lat, \n",
    "                                                                        crs=\"EPSG:4326\"))\n",
    "#open  Kensington and Chelsea shapefile\n",
    "kc_borough = gpd.read_file('../../data/boundary_london/kc.shp')\n",
    "#check coordinate system\n",
    "kc_borough.crs\n",
    "#convert projection of wiki_gpd\n",
    "kc_wiki_gpd = kc_wiki_gpd.to_crs('EPSG:27700')\n",
    "#extract wiki for kc only\n",
    "kc_wiki_clip = gpd.overlay(kc_wiki_gpd, \n",
    "                           kc_borough, \n",
    "                           how='intersection')\n",
    "#remove non-primary wiki pages gt_primary = 0\n",
    "kc_wiki_clip = kc_wiki_clip[kc_wiki_clip.gt_primary != 0]"
   ]
  },
  {
   "cell_type": "code",
   "execution_count": null,
   "id": "231de383",
   "metadata": {},
   "outputs": [],
   "source": [
    "pip install wikipedia-api\n",
    "#call page summary data\n",
    "page_title_column = \"page_title\"\n",
    "#kc_wiki_clip[\"page_summary\"] = \"\"\n",
    "columns = [\"page_title\", \"page_summary\"]\n",
    "page_summary_data = pd.DataFrame(columns=columns)\n",
    "import wikipediaapi\n",
    "for each_title in kc_wiki_clip[page_title_column]:\n",
    "    #this_page =kc_wiki_clip[kc_wiki_clip[page_title_column] == each_title] \n",
    "    print(\"Working on %s:\" % (each_title))\n",
    "    wiki_wiki = wikipediaapi.Wikipedia('en')\n",
    "    each_title_py = wiki_wiki.page(each_title)\n",
    "    #this_page_py = wiki_wiki.page(each_title)\n",
    "    page_summary = each_title_py.summary\n",
    "    page_summary_data = page_summary_data.append({\"page_title\": each_title, \n",
    "                                                  \"page_summary\": page_summary},\n",
    "                                                 ignore_index=True)"
   ]
  },
  {
   "cell_type": "code",
   "execution_count": null,
   "id": "99d243a5",
   "metadata": {},
   "outputs": [],
   "source": [
    "kc_wiki_with_summary = kc_wiki_clip.merge(page_summary_data, \n",
    "                                          on = \"page_title\", \n",
    "                                          how = \"left\")\n",
    "kc_wiki_with_summary = kc_wiki_with_summary.drop_duplicates() \n",
    "kc_wiki_with_summary.to_csv('../../data/data_wiki_clustering/kc_wiki_with_summary.csv')"
   ]
  },
  {
   "cell_type": "code",
   "execution_count": null,
   "id": "e886b844",
   "metadata": {},
   "outputs": [],
   "source": []
  },
  {
   "cell_type": "code",
   "execution_count": null,
   "id": "a3be4b0c",
   "metadata": {},
   "outputs": [],
   "source": []
  },
  {
   "cell_type": "code",
   "execution_count": null,
   "id": "c46ee866",
   "metadata": {},
   "outputs": [],
   "source": []
  }
 ],
 "metadata": {
  "kernelspec": {
   "display_name": "geo_env",
   "language": "python",
   "name": "geo_env"
  },
  "language_info": {
   "codemirror_mode": {
    "name": "ipython",
    "version": 3
   },
   "file_extension": ".py",
   "mimetype": "text/x-python",
   "name": "python",
   "nbconvert_exporter": "python",
   "pygments_lexer": "ipython3",
   "version": "3.9.6"
  }
 },
 "nbformat": 4,
 "nbformat_minor": 5
}
