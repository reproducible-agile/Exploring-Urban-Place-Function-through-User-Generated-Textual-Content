{
 "cells": [
  {
   "cell_type": "code",
   "execution_count": null,
   "id": "91e10ca2",
   "metadata": {},
   "outputs": [],
   "source": [
    "#import modules\n",
    "from numpy import NaN\n",
    "import requests\n",
    "import json\n",
    "import pandas as pd\n",
    "import geopandas as gpd\n",
    "from pprint import pprint\n",
    "import os.path\n",
    "import sys\n",
    "import time\n",
    "import random\n",
    "import numpy as np\n",
    "import matplotlib.pyplot as plt\n",
    "import sklearn"
   ]
  },
  {
   "cell_type": "code",
   "execution_count": null,
   "id": "a83178b3",
   "metadata": {},
   "outputs": [],
   "source": [
    "#set study area\n",
    "#load ooutput area file for London\n",
    "ons_oa = gpd.read_file('../../data/boundary_london/ons_oa_geo_london_valid.geojson')\n",
    "#extract oa for kensington and chelsea only\n",
    "kc_oa = ons_oa[ons_oa['LAD17NM'] == 'Kensington and Chelsea']\n",
    "#id column\n",
    "kc_oa_id_column = \"OA11CD\""
   ]
  },
  {
   "cell_type": "code",
   "execution_count": null,
   "id": "48e99d44",
   "metadata": {},
   "outputs": [],
   "source": [
    "#extract osm data for kc by each oa\n",
    "list_df = []\n",
    "for this_oa_id in kc_oa[kc_oa_id_column]:\n",
    "    this_section = kc_oa[kc_oa[kc_oa_id_column] == this_oa_id]\n",
    "    print(\"Working on %s:\" % (this_oa_id))\n",
    "    print(this_section)\n",
    "    this_section_geojson = this_section.to_json()\n",
    "    #query latest  data for Kenisngton and Chelsea \n",
    "    times_to_query = '2021-10-15'\n",
    "    URL = 'https://api.ohsome.org/v1/elements/geometry'\n",
    "    data = {\"bpolys\": this_section_geojson, \"time\": times_to_query, \"properties\":'tags', \"filter\": \"type:node\"}\n",
    "    response = requests.post(URL, data=data)\n",
    "    response_dict = response.json()\n",
    "    #print(response.json())\n",
    "    oa_data = pd.json_normalize(response_dict, record_path =['features'])\n",
    "    list_df.append(oa_data)\n",
    "#add dataframes\n",
    "kc_osm_data = pd.concat(list_df) \n",
    "print(kc_osm_data)\n",
    "kc_osm_data.to_csv('../../data/data_ohsome/new_kc_osm.csv')\n",
    "#get column names\n",
    "print(kc_osm_data.columns)"
   ]
  },
  {
   "cell_type": "code",
   "execution_count": null,
   "id": "d22ad0f8",
   "metadata": {},
   "outputs": [],
   "source": []
  }
 ],
 "metadata": {
  "kernelspec": {
   "display_name": "Python 3 (ipykernel)",
   "language": "python",
   "name": "python3"
  },
  "language_info": {
   "codemirror_mode": {
    "name": "ipython",
    "version": 3
   },
   "file_extension": ".py",
   "mimetype": "text/x-python",
   "name": "python",
   "nbconvert_exporter": "python",
   "pygments_lexer": "ipython3",
   "version": "3.11.8"
  }
 },
 "nbformat": 4,
 "nbformat_minor": 5
}
