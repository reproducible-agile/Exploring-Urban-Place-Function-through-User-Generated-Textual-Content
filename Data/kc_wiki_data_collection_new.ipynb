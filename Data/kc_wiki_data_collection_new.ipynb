{
 "cells": [
  {
   "cell_type": "code",
   "execution_count": 1,
   "id": "ccc45da9",
   "metadata": {},
   "outputs": [],
   "source": [
    "import pandas as pd\n",
    "#load wiki data for london\n",
    "wiki_data = pd.read_csv('../../data/data_wiki_clustering/wikipedia_geotags_112020.csv')"
   ]
  },
  {
   "cell_type": "code",
   "execution_count": 2,
   "id": "4c19ef54",
   "metadata": {},
   "outputs": [],
   "source": [
    "#convert to geopandas dataframe\n",
    "import geopandas as gpd\n",
    "from geopandas import GeoDataFrame\n",
    "kc_wiki_gpd = gpd.GeoDataFrame(wiki_data, geometry = gpd.points_from_xy(wiki_data.gt_lon, \n",
    "                                                                        wiki_data.gt_lat, \n",
    "                                                                        crs=\"EPSG:4326\"))\n",
    "#convert projection of wiki_gpd\n",
    "kc_wiki_gpd = kc_wiki_gpd.to_crs('EPSG:27700')\n"
   ]
  },
  {
   "cell_type": "code",
   "execution_count": 8,
   "id": "c430d38f-50ca-4bac-9def-2c839e3c59ab",
   "metadata": {},
   "outputs": [],
   "source": [
    "#open  Kensington and Chelsea shapefile\n",
    "lon_borough = gpd.read_file('../../data/boundary_london/London_Borough_Excluding_MHW.shp')\n",
    "kc_borough = lon_borough[lon_borough['NAME'] == 'Kensington and Chelsea']"
   ]
  },
  {
   "cell_type": "code",
   "execution_count": 9,
   "id": "9c3ef1b6-c98b-4550-b38b-1a9e669bc8b1",
   "metadata": {},
   "outputs": [
    {
     "data": {
      "text/html": [
       "<div>\n",
       "<style scoped>\n",
       "    .dataframe tbody tr th:only-of-type {\n",
       "        vertical-align: middle;\n",
       "    }\n",
       "\n",
       "    .dataframe tbody tr th {\n",
       "        vertical-align: top;\n",
       "    }\n",
       "\n",
       "    .dataframe thead th {\n",
       "        text-align: right;\n",
       "    }\n",
       "</style>\n",
       "<table border=\"1\" class=\"dataframe\">\n",
       "  <thead>\n",
       "    <tr style=\"text-align: right;\">\n",
       "      <th></th>\n",
       "      <th>NAME</th>\n",
       "      <th>GSS_CODE</th>\n",
       "      <th>HECTARES</th>\n",
       "      <th>NONLD_AREA</th>\n",
       "      <th>ONS_INNER</th>\n",
       "      <th>SUB_2009</th>\n",
       "      <th>SUB_2006</th>\n",
       "      <th>geometry</th>\n",
       "    </tr>\n",
       "  </thead>\n",
       "  <tbody>\n",
       "    <tr>\n",
       "      <th>23</th>\n",
       "      <td>Kensington and Chelsea</td>\n",
       "      <td>E09000020</td>\n",
       "      <td>1238.379</td>\n",
       "      <td>25.994</td>\n",
       "      <td>T</td>\n",
       "      <td>None</td>\n",
       "      <td>None</td>\n",
       "      <td>POLYGON ((526219.700 176948.000, 526208.800 17...</td>\n",
       "    </tr>\n",
       "  </tbody>\n",
       "</table>\n",
       "</div>"
      ],
      "text/plain": [
       "                      NAME   GSS_CODE  HECTARES  NONLD_AREA ONS_INNER  \\\n",
       "23  Kensington and Chelsea  E09000020  1238.379      25.994         T   \n",
       "\n",
       "   SUB_2009 SUB_2006                                           geometry  \n",
       "23     None     None  POLYGON ((526219.700 176948.000, 526208.800 17...  "
      ]
     },
     "execution_count": 9,
     "metadata": {},
     "output_type": "execute_result"
    }
   ],
   "source": [
    "kc_borough"
   ]
  },
  {
   "cell_type": "code",
   "execution_count": null,
   "id": "c6029db5-1c8e-41c4-a0fe-4a249980ef00",
   "metadata": {},
   "outputs": [],
   "source": [
    "#extract wiki for kc only\n",
    "kc_wiki_clip = gpd.overlay(kc_wiki_gpd, \n",
    "                           kc_borough, \n",
    "                           how='intersection')\n",
    "#remove non-primary wiki pages gt_primary = 0\n",
    "kc_wiki_clip = kc_wiki_clip[kc_wiki_clip.gt_primary != 0]"
   ]
  },
  {
   "cell_type": "code",
   "execution_count": null,
   "id": "231de383",
   "metadata": {},
   "outputs": [],
   "source": [
    "pip install wikipedia-api\n",
    "#call page summary data\n",
    "page_title_column = \"page_title\"\n",
    "#kc_wiki_clip[\"page_summary\"] = \"\"\n",
    "columns = [\"page_title\", \"page_summary\"]\n",
    "page_summary_data = pd.DataFrame(columns=columns)\n",
    "import wikipediaapi\n",
    "for each_title in kc_wiki_clip[page_title_column]:\n",
    "    #this_page =kc_wiki_clip[kc_wiki_clip[page_title_column] == each_title] \n",
    "    print(\"Working on %s:\" % (each_title))\n",
    "    wiki_wiki = wikipediaapi.Wikipedia('en')\n",
    "    each_title_py = wiki_wiki.page(each_title)\n",
    "    #this_page_py = wiki_wiki.page(each_title)\n",
    "    page_summary = each_title_py.summary\n",
    "    page_summary_data = page_summary_data.append({\"page_title\": each_title, \n",
    "                                                  \"page_summary\": page_summary},\n",
    "                                                 ignore_index=True)"
   ]
  },
  {
   "cell_type": "code",
   "execution_count": null,
   "id": "99d243a5",
   "metadata": {},
   "outputs": [],
   "source": [
    "kc_wiki_with_summary = kc_wiki_clip.merge(page_summary_data, \n",
    "                                          on = \"page_title\", \n",
    "                                          how = \"left\")\n",
    "kc_wiki_with_summary = kc_wiki_with_summary.drop_duplicates() \n",
    "kc_wiki_with_summary.to_csv('../../data/data_wiki_clustering/kc_wiki_with_summary.csv')"
   ]
  },
  {
   "cell_type": "code",
   "execution_count": null,
   "id": "e886b844",
   "metadata": {},
   "outputs": [],
   "source": []
  },
  {
   "cell_type": "code",
   "execution_count": null,
   "id": "a3be4b0c",
   "metadata": {},
   "outputs": [],
   "source": []
  },
  {
   "cell_type": "code",
   "execution_count": null,
   "id": "c46ee866",
   "metadata": {},
   "outputs": [],
   "source": []
  }
 ],
 "metadata": {
  "kernelspec": {
   "display_name": "Python 3 (ipykernel)",
   "language": "python",
   "name": "python3"
  },
  "language_info": {
   "codemirror_mode": {
    "name": "ipython",
    "version": 3
   },
   "file_extension": ".py",
   "mimetype": "text/x-python",
   "name": "python",
   "nbconvert_exporter": "python",
   "pygments_lexer": "ipython3",
   "version": "3.11.10"
  }
 },
 "nbformat": 4,
 "nbformat_minor": 5
}
